{
 "cells": [
  {
   "cell_type": "markdown",
   "metadata": {},
   "source": [
    "# FILMS REVENUE DATA SCRAPPING FROM WIKIPEDIA."
   ]
  },
  {
   "cell_type": "code",
   "execution_count": 1,
   "metadata": {},
   "outputs": [],
   "source": [
    "# Import libraries\n",
    "import requests\n",
    "import csv\n",
    "import json\n",
    "from bs4 import BeautifulSoup\n",
    "import pandas as pd\n",
    "import matplotlib.pyplot as plt\n",
    "%matplotlib inline"
   ]
  },
  {
   "cell_type": "code",
   "execution_count": 2,
   "metadata": {},
   "outputs": [],
   "source": [
    "# Web link\n",
    "response = requests.get('https://en.wikipedia.org/wiki/List_of_highest-grossing_films#endnote_Rentals')"
   ]
  },
  {
   "cell_type": "code",
   "execution_count": 3,
   "metadata": {},
   "outputs": [],
   "source": [
    "# soup Object\n",
    "soup = BeautifulSoup(response.content)"
   ]
  },
  {
   "cell_type": "code",
   "execution_count": 4,
   "metadata": {},
   "outputs": [
    {
     "name": "stdout",
     "output_type": "stream",
     "text": [
      "{'Rank': '1', 'Peak': '1', 'Title': 'Avatar', 'Worldwide gross': '$2,923,706,026', 'Year': '2009', 'Ref': '[# 1][# 2]'}\n",
      "{'Rank': '2', 'Peak': '1', 'Title': 'Avengers: Endgame', 'Worldwide gross': '$2,797,501,328', 'Year': '2019', 'Ref': '[# 3][# 4]'}\n",
      "{'Rank': '3', 'Peak': '3', 'Title': 'Avatar: The Way of Water', 'Worldwide gross': '$2,320,250,281', 'Year': '2022', 'Ref': '[# 5][# 6]'}\n",
      "{'Rank': '4', 'Peak': '1', 'Title': 'Titanic', 'Worldwide gross': 'T$2,257,844,554', 'Year': '1997', 'Ref': '[# 7][# 8]'}\n",
      "{'Rank': '5', 'Peak': '3', 'Title': 'Star Wars: The Force Awakens', 'Worldwide gross': '$2,068,223,624', 'Year': '2015', 'Ref': '[# 9][# 10]'}\n",
      "{'Rank': '6', 'Peak': '4', 'Title': 'Avengers: Infinity War', 'Worldwide gross': '$2,048,359,754', 'Year': '2018', 'Ref': '[# 11][# 12]'}\n",
      "{'Rank': '7', 'Peak': '6', 'Title': 'Spider-Man: No Way Home', 'Worldwide gross': '$1,922,598,800', 'Year': '2021', 'Ref': '[# 13][# 14]'}\n",
      "{'Rank': '8', 'Peak': '3', 'Title': 'Jurassic World', 'Worldwide gross': '$1,671,537,444', 'Year': '2015', 'Ref': '[# 15][# 16]'}\n",
      "{'Rank': '9', 'Peak': '7', 'Title': 'The Lion King', 'Worldwide gross': '$1,656,943,394', 'Year': '2019', 'Ref': '[# 17][# 4]'}\n",
      "{'Rank': '10', 'Peak': '3', 'Title': 'The Avengers', 'Worldwide gross': '$1,518,815,515', 'Year': '2012', 'Ref': '[# 18][# 19]'}\n",
      "{'Rank': '11', 'Peak': '4', 'Title': 'Furious 7', 'Worldwide gross': '$1,515,341,399', 'Year': '2015', 'Ref': '[# 20][# 21]'}\n",
      "{'Rank': '12', 'Peak': '11', 'Title': 'Top Gun: Maverick', 'Worldwide gross': '$1,495,696,292', 'Year': '2022', 'Ref': '[# 22][# 23]'}\n",
      "{'Rank': '13', 'Peak': '10', 'Title': 'Frozen II', 'Worldwide gross': '$1,450,026,933', 'Year': '2019', 'Ref': '[# 24][# 25]'}\n",
      "{'Rank': '14', 'Peak': '14', 'Title': 'Barbie', 'Worldwide gross': '$1,445,638,421', 'Year': '2023', 'Ref': '[# 26][# 27]'}\n",
      "{'Rank': '15', 'Peak': '5', 'Title': 'Avengers: Age of Ultron', 'Worldwide gross': '$1,402,809,540', 'Year': '2015', 'Ref': '[# 28][# 21]'}\n",
      "{'Rank': '16', 'Peak': '16', 'Title': 'Inside Out 2 †', 'Worldwide gross': '$1,402,091,939', 'Year': '2024', 'Ref': '[# 29]'}\n",
      "{'Rank': '17', 'Peak': '15', 'Title': 'The Super Mario Bros. Movie', 'Worldwide gross': '$1,361,992,475', 'Year': '2023', 'Ref': '[# 30][# 31]'}\n",
      "{'Rank': '18', 'Peak': '9', 'Title': 'Black Panther', 'Worldwide gross': '$1,347,280,838', 'Year': '2018', 'Ref': '[# 32][# 33]'}\n",
      "{'Rank': '19', 'Peak': '3', 'Title': 'Harry Potter and the Deathly Hallows – Part 2', 'Worldwide gross': '$1,342,139,727', 'Year': '2011', 'Ref': '[# 34][# 35]'}\n",
      "{'Rank': '20', 'Peak': '9', 'Title': 'Star Wars: The Last Jedi', 'Worldwide gross': '$1,332,539,889', 'Year': '2017', 'Ref': '[# 36][# 37]'}\n",
      "{'Rank': '21', 'Peak': '12', 'Title': 'Jurassic World: Fallen Kingdom', 'Worldwide gross': '$1,308,473,425', 'Year': '2018', 'Ref': '[# 38][# 12]'}\n",
      "{'Rank': '22', 'Peak': '5', 'Title': 'Frozen', 'Worldwide gross': 'F$1,290,000,000', 'Year': '2013', 'Ref': '[# 39][# 40]'}\n",
      "{'Rank': '23', 'Peak': '10', 'Title': 'Beauty and the Beast', 'Worldwide gross': '$1,263,521,126', 'Year': '2017', 'Ref': '[# 41][# 42]'}\n",
      "{'Rank': '24', 'Peak': '15', 'Title': 'Incredibles 2', 'Worldwide gross': '$1,242,805,359', 'Year': '2018', 'Ref': '[# 43][# 12]'}\n",
      "{'Rank': '25', 'Peak': '11', 'Title': 'The Fate of the Furious', 'Worldwide gross': 'F8$1,238,764,765', 'Year': '2017', 'Ref': '[# 44][# 42]'}\n",
      "{'Rank': '26', 'Peak': '5', 'Title': 'Iron Man 3', 'Worldwide gross': '$1,214,811,252', 'Year': '2013', 'Ref': '[# 45][# 46]'}\n",
      "{'Rank': '27', 'Peak': '10', 'Title': 'Minions', 'Worldwide gross': '$1,159,444,662', 'Year': '2015', 'Ref': '[# 47][# 16]'}\n",
      "{'Rank': '28', 'Peak': '12', 'Title': 'Captain America: Civil War', 'Worldwide gross': '$1,153,337,496', 'Year': '2016', 'Ref': '[# 48][# 49]'}\n",
      "{'Rank': '29', 'Peak': '20', 'Title': 'Aquaman', 'Worldwide gross': '$1,148,528,393', 'Year': '2018', 'Ref': '[# 50][# 12]'}\n",
      "{'Rank': '30', 'Peak': '2', 'Title': 'The Lord of the Rings: The Return of the King', 'Worldwide gross': '$1,147,997,407', 'Year': '2003', 'Ref': '[# 51][# 52]'}\n",
      "{'Rank': '31', 'Peak': '24RK', 'Title': 'Spider-Man: Far From Home', 'Worldwide gross': '$1,132,679,685', 'Year': '2019', 'Ref': '[# 53][# 4]'}\n",
      "{'Rank': '32', 'Peak': '23RK', 'Title': 'Captain Marvel', 'Worldwide gross': '$1,128,274,794', 'Year': '2019', 'Ref': '[# 54][# 55]'}\n",
      "{'Rank': '33', 'Peak': '5RK', 'Title': 'Transformers: Dark of the Moon', 'Worldwide gross': '$1,123,794,079', 'Year': '2011', 'Ref': '[# 56][# 35]'}\n",
      "{'Rank': '34', 'Peak': '7', 'Title': 'Skyfall', 'Worldwide gross': '$1,108,569,499', 'Year': '2012', 'Ref': '[# 57][# 58]'}\n",
      "{'Rank': '35', 'Peak': '10', 'Title': 'Transformers: Age of Extinction', 'Worldwide gross': '$1,104,054,072', 'Year': '2014', 'Ref': '[# 59][# 60]'}\n",
      "{'Rank': '36', 'Peak': '7', 'Title': 'The Dark Knight Rises', 'Worldwide gross': '$1,081,169,825', 'Year': '2012', 'Ref': '[# 61][# 62]'}\n",
      "{'Rank': '37', 'Peak': '31', 'Title': 'Joker', 'Worldwide gross': '$1,074,458,282', 'Year': '2019', 'Ref': '[# 63][# 25]'}\n",
      "{'Rank': '38', 'Peak': '32', 'Title': 'Star Wars: The Rise of Skywalker', 'Worldwide gross': '$1,074,144,248', 'Year': '2019', 'Ref': '[# 64][# 25]'}\n",
      "{'Rank': '39', 'Peak': '30', 'Title': 'Toy Story 4', 'Worldwide gross': '$1,073,394,593', 'Year': '2019', 'Ref': '[# 65][# 4]'}\n",
      "{'Rank': '40', 'Peak': '4TS3', 'Title': 'Toy Story 3', 'Worldwide gross': '$1,066,970,811', 'Year': '2010', 'Ref': '[# 66][# 67]'}\n",
      "{'Rank': '41', 'Peak': '3', 'Title': \"Pirates of the Caribbean: Dead Man's Chest\", 'Worldwide gross': '$1,066,179,747', 'Year': '2006', 'Ref': '[# 68][# 69]'}\n",
      "{'Rank': '42', 'Peak': '20', 'Title': 'Rogue One: A Star Wars Story', 'Worldwide gross': '$1,057,420,387', 'Year': '2016', 'Ref': '[# 70][# 71]'}\n",
      "{'Rank': '43', 'Peak': '34', 'Title': 'Aladdin', 'Worldwide gross': '$1,050,693,953', 'Year': '2019', 'Ref': '[# 72][# 4]'}\n",
      "{'Rank': '44', 'Peak': '2', 'Title': 'Star Wars: Episode I – The Phantom Menace', 'Worldwide gross': '$1,046,515,409', 'Year': '1999', 'Ref': '[# 73][# 8]'}\n",
      "{'Rank': '45', 'Peak': '6', 'Title': 'Pirates of the Caribbean: On Stranger Tides', 'Worldwide gross': '$1,045,713,802', 'Year': '2011', 'Ref': '[# 74][# 67]'}\n",
      "{'Rank': '46', 'Peak': '1', 'Title': 'Jurassic Park', 'Worldwide gross': '$1,037,535,230', 'Year': '1993', 'Ref': '[# 75][# 76]'}\n",
      "{'Rank': '47', 'Peak': '24', 'Title': 'Despicable Me 3', 'Worldwide gross': '$1,034,800,131', 'Year': '2017', 'Ref': '[# 77][# 42]'}\n",
      "{'Rank': '48', 'Peak': '22', 'Title': 'Finding Dory', 'Worldwide gross': '$1,028,570,942', 'Year': '2016', 'Ref': '[# 78][# 79]'}\n",
      "{'Rank': '49', 'Peak': '5', 'Title': 'Alice in Wonderland', 'Worldwide gross': '$1,025,468,216', 'Year': '2010', 'Ref': '[# 80][# 81]'}\n",
      "{'Rank': '50', 'Peak': '24', 'Title': 'Zootopia', 'Worldwide gross': '$1,023,784,195', 'Year': '2016', 'Ref': '[# 82][# 49]'}\n"
     ]
    }
   ],
   "source": [
    "# Scrap the data\n",
    "\n",
    "def extract_wikipedia_table(url, table_class=None):\n",
    "    \"\"\"\n",
    "    Extracts the contents of a table from a Wikipedia page.\n",
    "\n",
    "    Args:\n",
    "    url (str): The URL of the Wikipedia page.\n",
    "    table_class (str, optional): The class name of the table to target. Defaults to None.\n",
    "\n",
    "    Returns:\n",
    "    list: A list of dictionaries containing the table data.\n",
    "    \"\"\"\n",
    "    response = requests.get(url)\n",
    "    soup = BeautifulSoup(response.text, 'html.parser')\n",
    "    \n",
    "    if table_class:\n",
    "        table = soup.find('table', {'class': table_class})\n",
    "    else:\n",
    "        table = soup.find('table')\n",
    "    \n",
    "    headers = []\n",
    "    for th in table.find_all('th'):\n",
    "        headers.append(th.text.strip())\n",
    "    \n",
    "    rows = []\n",
    "    for tr in table.find_all('tr')[1:]:\n",
    "        cells = tr.find_all(['th', 'td'])\n",
    "        if len(cells) > 0:\n",
    "            row_data = {}\n",
    "            for i, cell in enumerate(cells):\n",
    "                row_data[headers[i]] = cell.text.strip()\n",
    "            rows.append(row_data)\n",
    "    \n",
    "    return rows\n",
    "\n",
    "# Target link\n",
    "url = 'https://en.wikipedia.org/wiki/List_of_highest-grossing_films'\n",
    "table_class = 'wikitable'  # Specify the class of the table\n",
    "table_data = extract_wikipedia_table(url, table_class)\n",
    "\n",
    "for row in table_data:\n",
    "    print(row)\n"
   ]
  },
  {
   "cell_type": "code",
   "execution_count": 5,
   "metadata": {},
   "outputs": [
    {
     "data": {
      "text/html": [
       "<div>\n",
       "<style scoped>\n",
       "    .dataframe tbody tr th:only-of-type {\n",
       "        vertical-align: middle;\n",
       "    }\n",
       "\n",
       "    .dataframe tbody tr th {\n",
       "        vertical-align: top;\n",
       "    }\n",
       "\n",
       "    .dataframe thead th {\n",
       "        text-align: right;\n",
       "    }\n",
       "</style>\n",
       "<table border=\"1\" class=\"dataframe\">\n",
       "  <thead>\n",
       "    <tr style=\"text-align: right;\">\n",
       "      <th></th>\n",
       "      <th>Rank</th>\n",
       "      <th>Peak</th>\n",
       "      <th>Title</th>\n",
       "      <th>Worldwide gross</th>\n",
       "      <th>Year</th>\n",
       "      <th>Ref</th>\n",
       "    </tr>\n",
       "  </thead>\n",
       "  <tbody>\n",
       "    <tr>\n",
       "      <th>0</th>\n",
       "      <td>1</td>\n",
       "      <td>1</td>\n",
       "      <td>Avatar</td>\n",
       "      <td>$2,923,706,026</td>\n",
       "      <td>2009</td>\n",
       "      <td>[# 1][# 2]</td>\n",
       "    </tr>\n",
       "    <tr>\n",
       "      <th>1</th>\n",
       "      <td>2</td>\n",
       "      <td>1</td>\n",
       "      <td>Avengers: Endgame</td>\n",
       "      <td>$2,797,501,328</td>\n",
       "      <td>2019</td>\n",
       "      <td>[# 3][# 4]</td>\n",
       "    </tr>\n",
       "    <tr>\n",
       "      <th>2</th>\n",
       "      <td>3</td>\n",
       "      <td>3</td>\n",
       "      <td>Avatar: The Way of Water</td>\n",
       "      <td>$2,320,250,281</td>\n",
       "      <td>2022</td>\n",
       "      <td>[# 5][# 6]</td>\n",
       "    </tr>\n",
       "    <tr>\n",
       "      <th>3</th>\n",
       "      <td>4</td>\n",
       "      <td>1</td>\n",
       "      <td>Titanic</td>\n",
       "      <td>T$2,257,844,554</td>\n",
       "      <td>1997</td>\n",
       "      <td>[# 7][# 8]</td>\n",
       "    </tr>\n",
       "    <tr>\n",
       "      <th>4</th>\n",
       "      <td>5</td>\n",
       "      <td>3</td>\n",
       "      <td>Star Wars: The Force Awakens</td>\n",
       "      <td>$2,068,223,624</td>\n",
       "      <td>2015</td>\n",
       "      <td>[# 9][# 10]</td>\n",
       "    </tr>\n",
       "  </tbody>\n",
       "</table>\n",
       "</div>"
      ],
      "text/plain": [
       "  Rank Peak                         Title  Worldwide gross  Year          Ref\n",
       "0    1    1                        Avatar   $2,923,706,026  2009   [# 1][# 2]\n",
       "1    2    1             Avengers: Endgame   $2,797,501,328  2019   [# 3][# 4]\n",
       "2    3    3      Avatar: The Way of Water   $2,320,250,281  2022   [# 5][# 6]\n",
       "3    4    1                       Titanic  T$2,257,844,554  1997   [# 7][# 8]\n",
       "4    5    3  Star Wars: The Force Awakens   $2,068,223,624  2015  [# 9][# 10]"
      ]
     },
     "execution_count": 5,
     "metadata": {},
     "output_type": "execute_result"
    }
   ],
   "source": [
    "# Convert the list of dictionaries into a DataFrame\n",
    "df = pd.DataFrame(table_data)\n",
    "\n",
    "# Save the DataFrame to a CSV file\n",
    "df.to_csv('highest_grossing_films.csv', index=False)\n",
    "\n",
    "# First 5 rows of the dataframe\n",
    "df.head()"
   ]
  },
  {
   "cell_type": "markdown",
   "metadata": {},
   "source": [
    "## Data Cleaning"
   ]
  },
  {
   "cell_type": "code",
   "execution_count": 6,
   "metadata": {},
   "outputs": [
    {
     "data": {
      "text/html": [
       "<div>\n",
       "<style scoped>\n",
       "    .dataframe tbody tr th:only-of-type {\n",
       "        vertical-align: middle;\n",
       "    }\n",
       "\n",
       "    .dataframe tbody tr th {\n",
       "        vertical-align: top;\n",
       "    }\n",
       "\n",
       "    .dataframe thead th {\n",
       "        text-align: right;\n",
       "    }\n",
       "</style>\n",
       "<table border=\"1\" class=\"dataframe\">\n",
       "  <thead>\n",
       "    <tr style=\"text-align: right;\">\n",
       "      <th></th>\n",
       "      <th>Rank</th>\n",
       "      <th>Peak</th>\n",
       "      <th>Title</th>\n",
       "      <th>Worldwide gross</th>\n",
       "      <th>Year</th>\n",
       "    </tr>\n",
       "  </thead>\n",
       "  <tbody>\n",
       "    <tr>\n",
       "      <th>0</th>\n",
       "      <td>1</td>\n",
       "      <td>1</td>\n",
       "      <td>Avatar</td>\n",
       "      <td>$2,923,706,026</td>\n",
       "      <td>2009</td>\n",
       "    </tr>\n",
       "    <tr>\n",
       "      <th>1</th>\n",
       "      <td>2</td>\n",
       "      <td>1</td>\n",
       "      <td>Avengers: Endgame</td>\n",
       "      <td>$2,797,501,328</td>\n",
       "      <td>2019</td>\n",
       "    </tr>\n",
       "    <tr>\n",
       "      <th>2</th>\n",
       "      <td>3</td>\n",
       "      <td>3</td>\n",
       "      <td>Avatar: The Way of Water</td>\n",
       "      <td>$2,320,250,281</td>\n",
       "      <td>2022</td>\n",
       "    </tr>\n",
       "    <tr>\n",
       "      <th>3</th>\n",
       "      <td>4</td>\n",
       "      <td>1</td>\n",
       "      <td>Titanic</td>\n",
       "      <td>T$2,257,844,554</td>\n",
       "      <td>1997</td>\n",
       "    </tr>\n",
       "    <tr>\n",
       "      <th>4</th>\n",
       "      <td>5</td>\n",
       "      <td>3</td>\n",
       "      <td>Star Wars: The Force Awakens</td>\n",
       "      <td>$2,068,223,624</td>\n",
       "      <td>2015</td>\n",
       "    </tr>\n",
       "  </tbody>\n",
       "</table>\n",
       "</div>"
      ],
      "text/plain": [
       "  Rank Peak                         Title  Worldwide gross  Year\n",
       "0    1    1                        Avatar   $2,923,706,026  2009\n",
       "1    2    1             Avengers: Endgame   $2,797,501,328  2019\n",
       "2    3    3      Avatar: The Way of Water   $2,320,250,281  2022\n",
       "3    4    1                       Titanic  T$2,257,844,554  1997\n",
       "4    5    3  Star Wars: The Force Awakens   $2,068,223,624  2015"
      ]
     },
     "execution_count": 6,
     "metadata": {},
     "output_type": "execute_result"
    }
   ],
   "source": [
    "# Drop the `Ref` column \n",
    "df_clean = df.drop('Ref', axis=1)\n",
    "df_clean.head()"
   ]
  },
  {
   "cell_type": "code",
   "execution_count": 7,
   "metadata": {},
   "outputs": [
    {
     "data": {
      "text/plain": [
       "Rank               0\n",
       "Peak               0\n",
       "Title              0\n",
       "Worldwide gross    0\n",
       "Year               0\n",
       "dtype: int64"
      ]
     },
     "execution_count": 7,
     "metadata": {},
     "output_type": "execute_result"
    }
   ],
   "source": [
    "# Check missing columns\n",
    "df_clean.isnull().sum()"
   ]
  },
  {
   "cell_type": "code",
   "execution_count": 8,
   "metadata": {},
   "outputs": [
    {
     "name": "stdout",
     "output_type": "stream",
     "text": [
      "<class 'pandas.core.frame.DataFrame'>\n",
      "RangeIndex: 50 entries, 0 to 49\n",
      "Data columns (total 5 columns):\n",
      " #   Column           Non-Null Count  Dtype \n",
      "---  ------           --------------  ----- \n",
      " 0   Rank             50 non-null     object\n",
      " 1   Peak             50 non-null     object\n",
      " 2   Title            50 non-null     object\n",
      " 3   Worldwide gross  50 non-null     object\n",
      " 4   Year             50 non-null     object\n",
      "dtypes: object(5)\n",
      "memory usage: 2.1+ KB\n"
     ]
    }
   ],
   "source": [
    "# Information\n",
    "df_clean.info()"
   ]
  },
  {
   "cell_type": "code",
   "execution_count": 9,
   "metadata": {},
   "outputs": [
    {
     "data": {
      "text/plain": [
       "array(['Avatar', 'Avengers: Endgame', 'Avatar: The Way of Water',\n",
       "       'Titanic', 'Star Wars: The Force Awakens',\n",
       "       'Avengers: Infinity War', 'Spider-Man: No Way Home',\n",
       "       'Jurassic World', 'The Lion King', 'The Avengers', 'Furious 7',\n",
       "       'Top Gun: Maverick', 'Frozen II', 'Barbie',\n",
       "       'Avengers: Age of Ultron', 'Inside Out 2 †',\n",
       "       'The Super Mario Bros. Movie', 'Black Panther',\n",
       "       'Harry Potter and the Deathly Hallows – Part 2',\n",
       "       'Star Wars: The Last Jedi', 'Jurassic World: Fallen Kingdom',\n",
       "       'Frozen', 'Beauty and the Beast', 'Incredibles 2',\n",
       "       'The Fate of the Furious', 'Iron Man 3', 'Minions',\n",
       "       'Captain America: Civil War', 'Aquaman',\n",
       "       'The Lord of the Rings: The Return of the King',\n",
       "       'Spider-Man: Far From Home', 'Captain Marvel',\n",
       "       'Transformers: Dark of the Moon', 'Skyfall',\n",
       "       'Transformers: Age of Extinction', 'The Dark Knight Rises',\n",
       "       'Joker', 'Star Wars: The Rise of Skywalker', 'Toy Story 4',\n",
       "       'Toy Story 3', \"Pirates of the Caribbean: Dead Man's Chest\",\n",
       "       'Rogue One: A Star Wars Story', 'Aladdin',\n",
       "       'Star Wars: Episode I – The Phantom Menace',\n",
       "       'Pirates of the Caribbean: On Stranger Tides', 'Jurassic Park',\n",
       "       'Despicable Me 3', 'Finding Dory', 'Alice in Wonderland',\n",
       "       'Zootopia'], dtype=object)"
      ]
     },
     "execution_count": 9,
     "metadata": {},
     "output_type": "execute_result"
    }
   ],
   "source": [
    "# Unique movies  in the dataset\n",
    "df_clean['Title'].unique()"
   ]
  },
  {
   "cell_type": "code",
   "execution_count": 12,
   "metadata": {},
   "outputs": [
    {
     "data": {
      "text/html": [
       "<div>\n",
       "<style scoped>\n",
       "    .dataframe tbody tr th:only-of-type {\n",
       "        vertical-align: middle;\n",
       "    }\n",
       "\n",
       "    .dataframe tbody tr th {\n",
       "        vertical-align: top;\n",
       "    }\n",
       "\n",
       "    .dataframe thead th {\n",
       "        text-align: right;\n",
       "    }\n",
       "</style>\n",
       "<table border=\"1\" class=\"dataframe\">\n",
       "  <thead>\n",
       "    <tr style=\"text-align: right;\">\n",
       "      <th></th>\n",
       "      <th>Position</th>\n",
       "      <th>Peak</th>\n",
       "      <th>Title</th>\n",
       "      <th>Revenue</th>\n",
       "      <th>Year</th>\n",
       "    </tr>\n",
       "  </thead>\n",
       "  <tbody>\n",
       "    <tr>\n",
       "      <th>0</th>\n",
       "      <td>1</td>\n",
       "      <td>1</td>\n",
       "      <td>Avatar</td>\n",
       "      <td>$2,923,706,026</td>\n",
       "      <td>2009</td>\n",
       "    </tr>\n",
       "    <tr>\n",
       "      <th>1</th>\n",
       "      <td>2</td>\n",
       "      <td>1</td>\n",
       "      <td>Avengers: Endgame</td>\n",
       "      <td>$2,797,501,328</td>\n",
       "      <td>2019</td>\n",
       "    </tr>\n",
       "    <tr>\n",
       "      <th>2</th>\n",
       "      <td>3</td>\n",
       "      <td>3</td>\n",
       "      <td>Avatar: The Way of Water</td>\n",
       "      <td>$2,320,250,281</td>\n",
       "      <td>2022</td>\n",
       "    </tr>\n",
       "    <tr>\n",
       "      <th>3</th>\n",
       "      <td>4</td>\n",
       "      <td>1</td>\n",
       "      <td>Titanic</td>\n",
       "      <td>T$2,257,844,554</td>\n",
       "      <td>1997</td>\n",
       "    </tr>\n",
       "    <tr>\n",
       "      <th>4</th>\n",
       "      <td>5</td>\n",
       "      <td>3</td>\n",
       "      <td>Star Wars: The Force Awakens</td>\n",
       "      <td>$2,068,223,624</td>\n",
       "      <td>2015</td>\n",
       "    </tr>\n",
       "  </tbody>\n",
       "</table>\n",
       "</div>"
      ],
      "text/plain": [
       "  Position Peak                         Title          Revenue  Year\n",
       "0        1    1                        Avatar   $2,923,706,026  2009\n",
       "1        2    1             Avengers: Endgame   $2,797,501,328  2019\n",
       "2        3    3      Avatar: The Way of Water   $2,320,250,281  2022\n",
       "3        4    1                       Titanic  T$2,257,844,554  1997\n",
       "4        5    3  Star Wars: The Force Awakens   $2,068,223,624  2015"
      ]
     },
     "execution_count": 12,
     "metadata": {},
     "output_type": "execute_result"
    }
   ],
   "source": [
    "# Renaming the 'Worldwide gross' to 'Revenue'\n",
    "df_clean.rename(columns={'Rank' : 'Position','Worldwide gross' : 'Revenue'}, inplace=True)\n",
    "df_clean.head()"
   ]
  },
  {
   "cell_type": "code",
   "execution_count": 13,
   "metadata": {},
   "outputs": [],
   "source": [
    "# Save the Clean DataFrame to a CSV file\n",
    "df_clean.to_csv('highest_grossing_films_clean.csv', index=False)"
   ]
  }
 ],
 "metadata": {
  "kernelspec": {
   "display_name": "venv",
   "language": "python",
   "name": "python3"
  },
  "language_info": {
   "codemirror_mode": {
    "name": "ipython",
    "version": 3
   },
   "file_extension": ".py",
   "mimetype": "text/x-python",
   "name": "python",
   "nbconvert_exporter": "python",
   "pygments_lexer": "ipython3",
   "version": "3.12.4"
  }
 },
 "nbformat": 4,
 "nbformat_minor": 2
}
